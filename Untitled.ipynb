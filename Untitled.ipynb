{
 "cells": [
  {
   "cell_type": "code",
   "execution_count": 1,
   "metadata": {},
   "outputs": [],
   "source": [
    "# Dependencies\n",
    "import argparse"
   ]
  },
  {
   "cell_type": "code",
   "execution_count": 2,
   "metadata": {},
   "outputs": [],
   "source": [
    "from aiy.vision.inference import CameraInference\n",
    "from aiy.vision.models import face_detection\n",
    "from examples.vision.annotator import Annotator\n",
    "from picamera import PiCamera\n",
    "\n",
    "from gpiozero import Servo\n",
    "from aiy.vision.pins import PIN_A"
   ]
  },
  {
   "cell_type": "code",
   "execution_count": 3,
   "metadata": {},
   "outputs": [
    {
     "name": "stderr",
     "output_type": "stream",
     "text": [
      "usage: ipykernel_launcher.py [-h] [--num_frames NUM_FRAMES]\n",
      "ipykernel_launcher.py: error: unrecognized arguments: -f /run/user/1000/jupyter/kernel-04e9aa6c-fd8c-49ec-afa9-2d70f4b80bbf.json\n"
     ]
    },
    {
     "ename": "SystemExit",
     "evalue": "2",
     "output_type": "error",
     "traceback": [
      "An exception has occurred, use %tb to see the full traceback.\n",
      "\u001b[0;31mSystemExit\u001b[0m\u001b[0;31m:\u001b[0m 2\n"
     ]
    },
    {
     "name": "stderr",
     "output_type": "stream",
     "text": [
      "/usr/local/lib/python3.5/dist-packages/IPython/core/interactiveshell.py:2969: UserWarning: To exit: use 'exit', 'quit', or Ctrl-D.\n",
      "  warn(\"To exit: use 'exit', 'quit', or Ctrl-D.\", stacklevel=1)\n"
     ]
    }
   ],
   "source": [
    "\n",
    "def main():\n",
    "    parser = argparse.ArgumentParser()\n",
    "    parser.add_argument(\n",
    "        '--num_frames',\n",
    "        '-n',\n",
    "        type=int,\n",
    "        dest='num_frames',\n",
    "        default=-1,\n",
    "        help='Sets the number of frames to run for, otherwise runs forever.')\n",
    "    args = parser.parse_args()\n",
    "\n",
    "    with PiCamera() as camera:\n",
    "        camera.sensor_mode = 4\n",
    "        camera.resolution = (1640, 1232)\n",
    "        camera.framerate = 30\n",
    "        camera.start_preview()\n",
    "        servo = Servo(PIN_A, min_pulse_width=.0005, max_pulse_width=.0019)\n",
    "        servo.mid()\n",
    "        position = 0\n",
    "        zero_counter = 0\n",
    "\n",
    "        annotator = Annotator(camera, dimensions=(320, 240))\n",
    "        scale_x = 320 / 1640\n",
    "        scale_y = 240 / 1232\n",
    "\n",
    "        def transform(bounding_box):\n",
    "            x, y, width, height = bounding_box\n",
    "            return (scale_x * x, scale_y * y, scale_x * (x + width),\n",
    "                    scale_y * (y + height))\n",
    "\n",
    "        with CameraInference(face_detection.model()) as inference:\n",
    "            for i, result in enumerate(inference.run()):\n",
    "                if i == args.num_frames:\n",
    "                    break\n",
    "                faces = face_detection.get_faces(result)\n",
    "                annotator.clear()\n",
    "                for face in faces:\n",
    "                    annotator.bounding_box(transform(face.bounding_box), fill=0)\n",
    "                annotator.update()\n",
    "                print('Iteration #%d: num_faces=%d' % (i, len(faces)))\n",
    "\n",
    "                if faces:\n",
    "                    face = faces[0]\n",
    "                    x, y, width, height = face.bounding_box\n",
    "                    print('             : Face is at %d' % x)\n",
    "                    if x < 300:\n",
    "                       print('             : Face left of center')\n",
    "                       position = position - 0.1\n",
    "                       if position < -1:\n",
    "                           position = -0.99\n",
    "                    elif x > 500:\n",
    "                       print('             : Face right of center')\n",
    "                       position = position + 0.1\n",
    "                       if position > 1:\n",
    "                           position = 0.99\n",
    "                    else:\n",
    "                       print('             : Face in CENTER of image')\n",
    "                       positon = position\n",
    "\n",
    "                    servo.value = position\n",
    "\n",
    "                else:\n",
    "                    zero_counter = zero_counter + 1\n",
    "                    if zero_counter == 100:\n",
    "                       servo.mid()\n",
    "                       position = 0\n",
    "                       print('             :Ignoring you')\n",
    "                       zero_counter = 0\n",
    "\n",
    "        camera.stop_preview()\n",
    "\n",
    "\n",
    "if __name__ == '__main__':\n",
    "    main()"
   ]
  },
  {
   "cell_type": "code",
   "execution_count": null,
   "metadata": {},
   "outputs": [],
   "source": []
  }
 ],
 "metadata": {
  "kernelspec": {
   "display_name": "Python 3",
   "language": "python",
   "name": "python3"
  },
  "language_info": {
   "codemirror_mode": {
    "name": "ipython",
    "version": 3
   },
   "file_extension": ".py",
   "mimetype": "text/x-python",
   "name": "python",
   "nbconvert_exporter": "python",
   "pygments_lexer": "ipython3",
   "version": "3.5.3"
  }
 },
 "nbformat": 4,
 "nbformat_minor": 2
}
